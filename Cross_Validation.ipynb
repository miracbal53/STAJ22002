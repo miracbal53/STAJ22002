{
  "nbformat": 4,
  "nbformat_minor": 0,
  "metadata": {
    "colab": {
      "provenance": []
    },
    "kernelspec": {
      "name": "python3",
      "display_name": "Python 3"
    },
    "language_info": {
      "name": "python"
    }
  },
  "cells": [
    {
      "cell_type": "code",
      "execution_count": 1,
      "metadata": {
        "colab": {
          "base_uri": "https://localhost:8080/"
        },
        "id": "tnWY-c0KzGIN",
        "outputId": "222916ab-2d4e-4b52-de40-edab063dbdf1"
      },
      "outputs": [
        {
          "output_type": "stream",
          "name": "stderr",
          "text": [
            "/usr/local/lib/python3.10/dist-packages/sklearn/preprocessing/_encoders.py:975: FutureWarning: `sparse` was renamed to `sparse_output` in version 1.2 and will be removed in 1.4. `sparse_output` is ignored unless you leave `sparse` to its default value.\n",
            "  warnings.warn(\n",
            "/usr/local/lib/python3.10/dist-packages/keras/src/layers/core/dense.py:87: UserWarning: Do not pass an `input_shape`/`input_dim` argument to a layer. When using Sequential models, prefer using an `Input(shape)` object as the first layer in the model instead.\n",
            "  super().__init__(activity_regularizer=activity_regularizer, **kwargs)\n"
          ]
        },
        {
          "output_type": "stream",
          "name": "stdout",
          "text": [
            "Fold 1 eğitim:\n",
            "Fold 1 Test Kayıp: 0.1394 | Test Doğruluk: 1.0000\n",
            "Fold 2 eğitim:\n",
            "Fold 2 Test Kayıp: 0.0812 | Test Doğruluk: 0.9667\n",
            "Fold 3 eğitim:\n",
            "Fold 3 Test Kayıp: 0.3293 | Test Doğruluk: 0.9000\n",
            "Fold 4 eğitim:\n",
            "Fold 4 Test Kayıp: 0.2790 | Test Doğruluk: 0.9333\n",
            "Fold 5 eğitim:\n"
          ]
        },
        {
          "output_type": "stream",
          "name": "stderr",
          "text": [
            "WARNING:tensorflow:5 out of the last 5 calls to <function TensorFlowTrainer.make_test_function.<locals>.one_step_on_iterator at 0x79e592ae76d0> triggered tf.function retracing. Tracing is expensive and the excessive number of tracings could be due to (1) creating @tf.function repeatedly in a loop, (2) passing tensors with different shapes, (3) passing Python objects instead of tensors. For (1), please define your @tf.function outside of the loop. For (2), @tf.function has reduce_retracing=True option that can avoid unnecessary retracing. For (3), please refer to https://www.tensorflow.org/guide/function#controlling_retracing and https://www.tensorflow.org/api_docs/python/tf/function for  more details.\n"
          ]
        },
        {
          "output_type": "stream",
          "name": "stdout",
          "text": [
            "Fold 5 Test Kayıp: 0.3425 | Test Doğruluk: 1.0000\n"
          ]
        }
      ],
      "source": [
        "# Gerekli kütüphaneler\n",
        "import numpy as np\n",
        "from sklearn.model_selection import KFold\n",
        "from sklearn.datasets import load_iris\n",
        "from sklearn.preprocessing import OneHotEncoder\n",
        "from tensorflow.keras.models import Sequential\n",
        "from tensorflow.keras.layers import Dense\n",
        "from tensorflow.keras.optimizers import Adam\n",
        "\n",
        "# Veri setini yükleme\n",
        "iris = load_iris()\n",
        "X = iris.data\n",
        "y = iris.target.reshape(-1, 1)\n",
        "\n",
        "# Etiketlere one-hot encoding ile dönüştürme\n",
        "encoder = OneHotEncoder(sparse=False)\n",
        "y_encoded = encoder.fit_transform(y)\n",
        "\n",
        "# K-fold cross-validation (5 katlı)\n",
        "kf = KFold(n_splits=5, shuffle=True, random_state=42)\n",
        "\n",
        "# Modeli tanımlama\n",
        "def create_model():\n",
        "    model = Sequential()\n",
        "    model.add(Dense(10, input_shape=(X.shape[1],), activation='relu'))\n",
        "    model.add(Dense(10, activation='relu'))\n",
        "    model.add(Dense(3, activation='softmax'))\n",
        "    model.compile(optimizer=Adam(), loss='categorical_crossentropy', metrics=['accuracy'])\n",
        "    return model\n",
        "\n",
        "# K-Fold Cross Validation işlemi\n",
        "fold_no = 1\n",
        "for train_index, test_index in kf.split(X):\n",
        "    X_train, X_test = X[train_index], X[test_index]\n",
        "    y_train, y_test = y_encoded[train_index], y_encoded[test_index]\n",
        "\n",
        "    model = create_model()\n",
        "\n",
        "    print(f\"Fold {fold_no} eğitim:\")\n",
        "    model.fit(X_train, y_train, epochs=50, batch_size=5, verbose=0)\n",
        "\n",
        "    # Modeli değerlendirme\n",
        "    loss, accuracy = model.evaluate(X_test, y_test, verbose=0)\n",
        "    print(f\"Fold {fold_no} Test Kayıp: {loss:.4f} | Test Doğruluk: {accuracy:.4f}\")\n",
        "    fold_no += 1\n"
      ]
    }
  ]
}