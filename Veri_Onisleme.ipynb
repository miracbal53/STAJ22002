{
  "nbformat": 4,
  "nbformat_minor": 0,
  "metadata": {
    "colab": {
      "provenance": []
    },
    "kernelspec": {
      "name": "python3",
      "display_name": "Python 3"
    },
    "language_info": {
      "name": "python"
    }
  },
  "cells": [
    {
      "cell_type": "code",
      "execution_count": 1,
      "metadata": {
        "colab": {
          "base_uri": "https://localhost:8080/",
          "height": 430
        },
        "id": "AOaSjq7rSOLg",
        "outputId": "9264e5a8-9c5e-4b27-810a-bbb58ddbef61"
      },
      "outputs": [
        {
          "output_type": "display_data",
          "data": {
            "text/plain": [
              "<Figure size 640x480 with 1 Axes>"
            ],
            "image/png": "[encoded data removed]"
          },
          "metadata": {}
        }
      ],
      "source": [
        "import numpy as np\n",
        "import pandas as pd\n",
        "from sklearn.preprocessing import StandardScaler, MinMaxScaler\n",
        "from sklearn.impute import SimpleImputer\n",
        "import matplotlib.pyplot as plt\n",
        "import tensorflow as tf\n",
        "from tensorflow.keras.preprocessing.image import ImageDataGenerator\n",
        "\n",
        "# Örnek veri seti\n",
        "data = {'Feature1': [1, 2, np.nan, 4, 5],\n",
        "        'Feature2': [7, np.nan, 9, 10, 11],\n",
        "        'Feature3': [12, 13, 14, np.nan, 16]}\n",
        "\n",
        "df = pd.DataFrame(data)\n",
        "\n",
        "# Ortalama ile doldurma\n",
        "imputer = SimpleImputer(strategy='mean')\n",
        "df_filled = pd.DataFrame(imputer.fit_transform(df), columns=df.columns)\n",
        "\n",
        "# Min-max scaler\n",
        "scaler = MinMaxScaler()\n",
        "df_normalized = pd.DataFrame(scaler.fit_transform(df_filled), columns=df.columns)\n",
        "\n",
        "# Standartlaştırma (Ortalama 0, Standart sapma 1)\n",
        "scaler_standard = StandardScaler()\n",
        "df_standardized = pd.DataFrame(scaler_standard.fit_transform(df_filled), columns=df.columns)\n",
        "\n",
        "#Veri artırma\n",
        "datagen = ImageDataGenerator(rotation_range=40, width_shift_range=0.2, height_shift_range=0.2,\n",
        "                             shear_range=0.2, zoom_range=0.2, horizontal_flip=True, fill_mode='nearest')\n",
        "\n",
        "# görüntü oluşturma rastgele\n",
        "image = np.random.rand(28, 28, 1)  # Gri tonlama görüntüsü\n",
        "image = np.expand_dims(image, 0)  # tensor haline getirme\n",
        "\n",
        "# Görüntüyü artırma\n",
        "datagen.fit(image)\n",
        "\n",
        "# görselleştirme\n",
        "for batch in datagen.flow(image, batch_size=1):\n",
        "    plt.imshow(batch[0].reshape(28, 28), cmap='gray')\n",
        "    plt.show()\n",
        "    break\n"
      ]
    }
  ]
}